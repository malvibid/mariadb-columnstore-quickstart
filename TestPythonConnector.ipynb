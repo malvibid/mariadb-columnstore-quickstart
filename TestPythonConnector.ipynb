{
 "cells": [
  {
   "cell_type": "code",
   "execution_count": 2,
   "id": "bdcf0f94-63cb-4cde-8c8a-078fa791f809",
   "metadata": {},
   "outputs": [
    {
     "data": {
      "application/vnd.plotly.v1+json": {
       "config": {
        "plotlyServerURL": "https://plot.ly"
       },
       "data": [
        {
         "alignmentgroup": "True",
         "hovertemplate": "year=%{x}<br>flights=%{y}<extra></extra>",
         "legendgroup": "",
         "marker": {
          "color": "#636efa",
          "pattern": {
           "shape": ""
          }
         },
         "name": "",
         "offsetgroup": "",
         "orientation": "v",
         "showlegend": false,
         "textposition": "auto",
         "type": "bar",
         "x": [
          2015,
          2015,
          2015,
          2015,
          2015,
          2015,
          2015,
          2015,
          2015,
          2015,
          2015,
          2015,
          2016,
          2016,
          2016,
          2016,
          2016,
          2016,
          2016,
          2016,
          2016,
          2016,
          2016,
          2016,
          2017,
          2017,
          2017,
          2017,
          2017,
          2017,
          2017,
          2017,
          2017,
          2017,
          2017,
          2017,
          2018,
          2018,
          2018,
          2018,
          2018,
          2018,
          2018,
          2018,
          2018,
          2018,
          2018,
          2018,
          2019,
          2019,
          2019,
          2019,
          2019,
          2019,
          2019,
          2019,
          2019,
          2019,
          2019,
          2019,
          2020,
          2020,
          2020,
          2020,
          2020,
          2020,
          2020,
          2020,
          2020,
          2020,
          2020,
          2020
         ],
         "xaxis": "x",
         "y": [
          479230,
          467972,
          486165,
          464946,
          510536,
          520718,
          503897,
          496993,
          485151,
          504312,
          429191,
          469968,
          460949,
          450938,
          472626,
          454878,
          498347,
          502457,
          487637,
          479358,
          461630,
          479122,
          423889,
          445827,
          464205,
          454162,
          479797,
          458727,
          510451,
          509070,
          494266,
          486483,
          468329,
          488597,
          410517,
          450017,
          649504,
          639051,
          670244,
          637663,
          701375,
          701881,
          682042,
          671718,
          649023,
          665810,
          566945,
          621613,
          679996,
          655104,
          692968,
          660726,
          717521,
          717754,
          694498,
          694336,
          668364,
          689446,
          583150,
          638864,
          397850,
          389703,
          374573,
          345321,
          398474,
          370889,
          237266,
          192456,
          331239,
          701285,
          623140,
          660585
         ],
         "yaxis": "y"
        }
       ],
       "layout": {
        "barmode": "relative",
        "legend": {
         "tracegroupgap": 0
        },
        "template": {
         "data": {
          "bar": [
           {
            "error_x": {
             "color": "#2a3f5f"
            },
            "error_y": {
             "color": "#2a3f5f"
            },
            "marker": {
             "line": {
              "color": "#E5ECF6",
              "width": 0.5
             },
             "pattern": {
              "fillmode": "overlay",
              "size": 10,
              "solidity": 0.2
             }
            },
            "type": "bar"
           }
          ],
          "barpolar": [
           {
            "marker": {
             "line": {
              "color": "#E5ECF6",
              "width": 0.5
             },
             "pattern": {
              "fillmode": "overlay",
              "size": 10,
              "solidity": 0.2
             }
            },
            "type": "barpolar"
           }
          ],
          "carpet": [
           {
            "aaxis": {
             "endlinecolor": "#2a3f5f",
             "gridcolor": "white",
             "linecolor": "white",
             "minorgridcolor": "white",
             "startlinecolor": "#2a3f5f"
            },
            "baxis": {
             "endlinecolor": "#2a3f5f",
             "gridcolor": "white",
             "linecolor": "white",
             "minorgridcolor": "white",
             "startlinecolor": "#2a3f5f"
            },
            "type": "carpet"
           }
          ],
          "choropleth": [
           {
            "colorbar": {
             "outlinewidth": 0,
             "ticks": ""
            },
            "type": "choropleth"
           }
          ],
          "contour": [
           {
            "colorbar": {
             "outlinewidth": 0,
             "ticks": ""
            },
            "colorscale": [
             [
              0,
              "#0d0887"
             ],
             [
              0.1111111111111111,
              "#46039f"
             ],
             [
              0.2222222222222222,
              "#7201a8"
             ],
             [
              0.3333333333333333,
              "#9c179e"
             ],
             [
              0.4444444444444444,
              "#bd3786"
             ],
             [
              0.5555555555555556,
              "#d8576b"
             ],
             [
              0.6666666666666666,
              "#ed7953"
             ],
             [
              0.7777777777777778,
              "#fb9f3a"
             ],
             [
              0.8888888888888888,
              "#fdca26"
             ],
             [
              1,
              "#f0f921"
             ]
            ],
            "type": "contour"
           }
          ],
          "contourcarpet": [
           {
            "colorbar": {
             "outlinewidth": 0,
             "ticks": ""
            },
            "type": "contourcarpet"
           }
          ],
          "heatmap": [
           {
            "colorbar": {
             "outlinewidth": 0,
             "ticks": ""
            },
            "colorscale": [
             [
              0,
              "#0d0887"
             ],
             [
              0.1111111111111111,
              "#46039f"
             ],
             [
              0.2222222222222222,
              "#7201a8"
             ],
             [
              0.3333333333333333,
              "#9c179e"
             ],
             [
              0.4444444444444444,
              "#bd3786"
             ],
             [
              0.5555555555555556,
              "#d8576b"
             ],
             [
              0.6666666666666666,
              "#ed7953"
             ],
             [
              0.7777777777777778,
              "#fb9f3a"
             ],
             [
              0.8888888888888888,
              "#fdca26"
             ],
             [
              1,
              "#f0f921"
             ]
            ],
            "type": "heatmap"
           }
          ],
          "heatmapgl": [
           {
            "colorbar": {
             "outlinewidth": 0,
             "ticks": ""
            },
            "colorscale": [
             [
              0,
              "#0d0887"
             ],
             [
              0.1111111111111111,
              "#46039f"
             ],
             [
              0.2222222222222222,
              "#7201a8"
             ],
             [
              0.3333333333333333,
              "#9c179e"
             ],
             [
              0.4444444444444444,
              "#bd3786"
             ],
             [
              0.5555555555555556,
              "#d8576b"
             ],
             [
              0.6666666666666666,
              "#ed7953"
             ],
             [
              0.7777777777777778,
              "#fb9f3a"
             ],
             [
              0.8888888888888888,
              "#fdca26"
             ],
             [
              1,
              "#f0f921"
             ]
            ],
            "type": "heatmapgl"
           }
          ],
          "histogram": [
           {
            "marker": {
             "pattern": {
              "fillmode": "overlay",
              "size": 10,
              "solidity": 0.2
             }
            },
            "type": "histogram"
           }
          ],
          "histogram2d": [
           {
            "colorbar": {
             "outlinewidth": 0,
             "ticks": ""
            },
            "colorscale": [
             [
              0,
              "#0d0887"
             ],
             [
              0.1111111111111111,
              "#46039f"
             ],
             [
              0.2222222222222222,
              "#7201a8"
             ],
             [
              0.3333333333333333,
              "#9c179e"
             ],
             [
              0.4444444444444444,
              "#bd3786"
             ],
             [
              0.5555555555555556,
              "#d8576b"
             ],
             [
              0.6666666666666666,
              "#ed7953"
             ],
             [
              0.7777777777777778,
              "#fb9f3a"
             ],
             [
              0.8888888888888888,
              "#fdca26"
             ],
             [
              1,
              "#f0f921"
             ]
            ],
            "type": "histogram2d"
           }
          ],
          "histogram2dcontour": [
           {
            "colorbar": {
             "outlinewidth": 0,
             "ticks": ""
            },
            "colorscale": [
             [
              0,
              "#0d0887"
             ],
             [
              0.1111111111111111,
              "#46039f"
             ],
             [
              0.2222222222222222,
              "#7201a8"
             ],
             [
              0.3333333333333333,
              "#9c179e"
             ],
             [
              0.4444444444444444,
              "#bd3786"
             ],
             [
              0.5555555555555556,
              "#d8576b"
             ],
             [
              0.6666666666666666,
              "#ed7953"
             ],
             [
              0.7777777777777778,
              "#fb9f3a"
             ],
             [
              0.8888888888888888,
              "#fdca26"
             ],
             [
              1,
              "#f0f921"
             ]
            ],
            "type": "histogram2dcontour"
           }
          ],
          "mesh3d": [
           {
            "colorbar": {
             "outlinewidth": 0,
             "ticks": ""
            },
            "type": "mesh3d"
           }
          ],
          "parcoords": [
           {
            "line": {
             "colorbar": {
              "outlinewidth": 0,
              "ticks": ""
             }
            },
            "type": "parcoords"
           }
          ],
          "pie": [
           {
            "automargin": true,
            "type": "pie"
           }
          ],
          "scatter": [
           {
            "fillpattern": {
             "fillmode": "overlay",
             "size": 10,
             "solidity": 0.2
            },
            "type": "scatter"
           }
          ],
          "scatter3d": [
           {
            "line": {
             "colorbar": {
              "outlinewidth": 0,
              "ticks": ""
             }
            },
            "marker": {
             "colorbar": {
              "outlinewidth": 0,
              "ticks": ""
             }
            },
            "type": "scatter3d"
           }
          ],
          "scattercarpet": [
           {
            "marker": {
             "colorbar": {
              "outlinewidth": 0,
              "ticks": ""
             }
            },
            "type": "scattercarpet"
           }
          ],
          "scattergeo": [
           {
            "marker": {
             "colorbar": {
              "outlinewidth": 0,
              "ticks": ""
             }
            },
            "type": "scattergeo"
           }
          ],
          "scattergl": [
           {
            "marker": {
             "colorbar": {
              "outlinewidth": 0,
              "ticks": ""
             }
            },
            "type": "scattergl"
           }
          ],
          "scattermapbox": [
           {
            "marker": {
             "colorbar": {
              "outlinewidth": 0,
              "ticks": ""
             }
            },
            "type": "scattermapbox"
           }
          ],
          "scatterpolar": [
           {
            "marker": {
             "colorbar": {
              "outlinewidth": 0,
              "ticks": ""
             }
            },
            "type": "scatterpolar"
           }
          ],
          "scatterpolargl": [
           {
            "marker": {
             "colorbar": {
              "outlinewidth": 0,
              "ticks": ""
             }
            },
            "type": "scatterpolargl"
           }
          ],
          "scatterternary": [
           {
            "marker": {
             "colorbar": {
              "outlinewidth": 0,
              "ticks": ""
             }
            },
            "type": "scatterternary"
           }
          ],
          "surface": [
           {
            "colorbar": {
             "outlinewidth": 0,
             "ticks": ""
            },
            "colorscale": [
             [
              0,
              "#0d0887"
             ],
             [
              0.1111111111111111,
              "#46039f"
             ],
             [
              0.2222222222222222,
              "#7201a8"
             ],
             [
              0.3333333333333333,
              "#9c179e"
             ],
             [
              0.4444444444444444,
              "#bd3786"
             ],
             [
              0.5555555555555556,
              "#d8576b"
             ],
             [
              0.6666666666666666,
              "#ed7953"
             ],
             [
              0.7777777777777778,
              "#fb9f3a"
             ],
             [
              0.8888888888888888,
              "#fdca26"
             ],
             [
              1,
              "#f0f921"
             ]
            ],
            "type": "surface"
           }
          ],
          "table": [
           {
            "cells": {
             "fill": {
              "color": "#EBF0F8"
             },
             "line": {
              "color": "white"
             }
            },
            "header": {
             "fill": {
              "color": "#C8D4E3"
             },
             "line": {
              "color": "white"
             }
            },
            "type": "table"
           }
          ]
         },
         "layout": {
          "annotationdefaults": {
           "arrowcolor": "#2a3f5f",
           "arrowhead": 0,
           "arrowwidth": 1
          },
          "autotypenumbers": "strict",
          "coloraxis": {
           "colorbar": {
            "outlinewidth": 0,
            "ticks": ""
           }
          },
          "colorscale": {
           "diverging": [
            [
             0,
             "#8e0152"
            ],
            [
             0.1,
             "#c51b7d"
            ],
            [
             0.2,
             "#de77ae"
            ],
            [
             0.3,
             "#f1b6da"
            ],
            [
             0.4,
             "#fde0ef"
            ],
            [
             0.5,
             "#f7f7f7"
            ],
            [
             0.6,
             "#e6f5d0"
            ],
            [
             0.7,
             "#b8e186"
            ],
            [
             0.8,
             "#7fbc41"
            ],
            [
             0.9,
             "#4d9221"
            ],
            [
             1,
             "#276419"
            ]
           ],
           "sequential": [
            [
             0,
             "#0d0887"
            ],
            [
             0.1111111111111111,
             "#46039f"
            ],
            [
             0.2222222222222222,
             "#7201a8"
            ],
            [
             0.3333333333333333,
             "#9c179e"
            ],
            [
             0.4444444444444444,
             "#bd3786"
            ],
            [
             0.5555555555555556,
             "#d8576b"
            ],
            [
             0.6666666666666666,
             "#ed7953"
            ],
            [
             0.7777777777777778,
             "#fb9f3a"
            ],
            [
             0.8888888888888888,
             "#fdca26"
            ],
            [
             1,
             "#f0f921"
            ]
           ],
           "sequentialminus": [
            [
             0,
             "#0d0887"
            ],
            [
             0.1111111111111111,
             "#46039f"
            ],
            [
             0.2222222222222222,
             "#7201a8"
            ],
            [
             0.3333333333333333,
             "#9c179e"
            ],
            [
             0.4444444444444444,
             "#bd3786"
            ],
            [
             0.5555555555555556,
             "#d8576b"
            ],
            [
             0.6666666666666666,
             "#ed7953"
            ],
            [
             0.7777777777777778,
             "#fb9f3a"
            ],
            [
             0.8888888888888888,
             "#fdca26"
            ],
            [
             1,
             "#f0f921"
            ]
           ]
          },
          "colorway": [
           "#636efa",
           "#EF553B",
           "#00cc96",
           "#ab63fa",
           "#FFA15A",
           "#19d3f3",
           "#FF6692",
           "#B6E880",
           "#FF97FF",
           "#FECB52"
          ],
          "font": {
           "color": "#2a3f5f"
          },
          "geo": {
           "bgcolor": "white",
           "lakecolor": "white",
           "landcolor": "#E5ECF6",
           "showlakes": true,
           "showland": true,
           "subunitcolor": "white"
          },
          "hoverlabel": {
           "align": "left"
          },
          "hovermode": "closest",
          "mapbox": {
           "style": "light"
          },
          "paper_bgcolor": "white",
          "plot_bgcolor": "#E5ECF6",
          "polar": {
           "angularaxis": {
            "gridcolor": "white",
            "linecolor": "white",
            "ticks": ""
           },
           "bgcolor": "#E5ECF6",
           "radialaxis": {
            "gridcolor": "white",
            "linecolor": "white",
            "ticks": ""
           }
          },
          "scene": {
           "xaxis": {
            "backgroundcolor": "#E5ECF6",
            "gridcolor": "white",
            "gridwidth": 2,
            "linecolor": "white",
            "showbackground": true,
            "ticks": "",
            "zerolinecolor": "white"
           },
           "yaxis": {
            "backgroundcolor": "#E5ECF6",
            "gridcolor": "white",
            "gridwidth": 2,
            "linecolor": "white",
            "showbackground": true,
            "ticks": "",
            "zerolinecolor": "white"
           },
           "zaxis": {
            "backgroundcolor": "#E5ECF6",
            "gridcolor": "white",
            "gridwidth": 2,
            "linecolor": "white",
            "showbackground": true,
            "ticks": "",
            "zerolinecolor": "white"
           }
          },
          "shapedefaults": {
           "line": {
            "color": "#2a3f5f"
           }
          },
          "ternary": {
           "aaxis": {
            "gridcolor": "white",
            "linecolor": "white",
            "ticks": ""
           },
           "baxis": {
            "gridcolor": "white",
            "linecolor": "white",
            "ticks": ""
           },
           "bgcolor": "#E5ECF6",
           "caxis": {
            "gridcolor": "white",
            "linecolor": "white",
            "ticks": ""
           }
          },
          "title": {
           "x": 0.05
          },
          "xaxis": {
           "automargin": true,
           "gridcolor": "white",
           "linecolor": "white",
           "ticks": "",
           "title": {
            "standoff": 15
           },
           "zerolinecolor": "white",
           "zerolinewidth": 2
          },
          "yaxis": {
           "automargin": true,
           "gridcolor": "white",
           "linecolor": "white",
           "ticks": "",
           "title": {
            "standoff": 15
           },
           "zerolinecolor": "white",
           "zerolinewidth": 2
          }
         }
        },
        "title": {
         "text": "Flights per Year"
        },
        "xaxis": {
         "anchor": "y",
         "domain": [
          0,
          1
         ],
         "title": {
          "text": "year"
         }
        },
        "yaxis": {
         "anchor": "x",
         "domain": [
          0,
          1
         ],
         "title": {
          "text": "flights"
         }
        }
       }
      }
     },
     "metadata": {},
     "output_type": "display_data"
    }
   ],
   "source": [
    "# If running this in a jupyter notebook after running jupyter lab\n",
    "# may need to run # jupyter labextension install jupyterlab-plotly\n",
    "# in virtual env before starting up jupyter lab\n",
    "#\n",
    "# This code will select and display the flights per year for a given range of years\n",
    "\n",
    "import mariadb\n",
    "import plotly.express as px\n",
    "from pandas import DataFrame\n",
    "from jproperties import Properties\n",
    "\n",
    "configs = Properties()\n",
    "\n",
    "with open('colStore.properties', 'rb') as read_prop:\n",
    "    configs.load(read_prop)\n",
    "\n",
    "host=configs.get(\"DB_HOST\").data\n",
    "port=configs.get(\"DB_PORT\").data\n",
    "user=configs.get(\"DB_USER\").data\n",
    "password=configs.get(\"DB_PASSWORD\").data\n",
    "database=configs.get(\"DB_DATABASE\").data\n",
    "#ssl=configs.get(\"DB_SSL\").data\n",
    "\n",
    "port=int(port)\n",
    "#ssl=int(ssl)\n",
    "\n",
    "config = {\n",
    "    'host' : host,\n",
    "    'port' : port,\n",
    "    'user' : user,\n",
    "    'password' : password,\n",
    "    'database' : database,\n",
    "    #'ssl' : ssl\n",
    "}\n",
    "\n",
    "conn = mariadb.connect(**config)\n",
    "\n",
    "cur = conn.cursor()\n",
    "\n",
    "cur.execute(\"SELECT COUNT(*) flights, month, year \" \\\n",
    "            \"FROM flights \" \\\n",
    "            \"WHERE year >= 2015 and year < 2021 \" \\\n",
    "            \"GROUP BY year, month \" \\\n",
    "            \"ORDER BY year, month DESC\")\n",
    "\n",
    "results = cur.fetchall()\n",
    "\n",
    "df = DataFrame(results, columns = ['flights','month','year'])\n",
    "df.head()\n",
    "fig = px.bar(df,x=\"year\", y=\"flights\", title=\"Flights per Year\")\n",
    "fig.show()\n"
   ]
  },
  {
   "cell_type": "code",
   "execution_count": null,
   "id": "1104b37c-bea4-4e54-9cc2-46b2c2932907",
   "metadata": {},
   "outputs": [],
   "source": [
    "# If running this in a jupyter notebook after running jupyter lab\n",
    "# may need to run # jupyter labextension install jupyterlab-plotly\n",
    "# in virtual env before starting up jupyter lab\n",
    "#\n",
    "# This code will select and display the flights per year for a given range of years and add color coding\n",
    "\n",
    "import mariadb\n",
    "import plotly.express as px\n",
    "from pandas import DataFrame\n",
    "from jproperties import Properties\n",
    "\n",
    "configs = Properties()\n",
    "\n",
    "with open('colStore.properties', 'rb') as read_prop:\n",
    "    configs.load(read_prop)\n",
    "\n",
    "host=configs.get(\"DB_HOST\").data\n",
    "port=configs.get(\"DB_PORT\").data\n",
    "user=configs.get(\"DB_USER\").data\n",
    "password=configs.get(\"DB_PASSWORD\").data\n",
    "database=configs.get(\"DB_DATABASE\").data\n",
    "#ssl=configs.get(\"DB_SSL\").data\n",
    "\n",
    "port=int(port)\n",
    "#ssl=int(ssl)\n",
    "\n",
    "config = {\n",
    "    'host' : host,\n",
    "    'port' : port,\n",
    "    'user' : user,\n",
    "    'password' : password,\n",
    "    'database' : database,\n",
    "    #'ssl' : ssl\n",
    "}\n",
    "\n",
    "conn = mariadb.connect(**config)\n",
    "\n",
    "cur = conn.cursor()\n",
    "\n",
    "cur.execute(\"SELECT COUNT(*) flights, month, year \" \\\n",
    "            \"FROM flights \" \\\n",
    "            \"WHERE year >= 2015 and year < 2021 \" \\\n",
    "            \"GROUP BY year, month \" \\\n",
    "            \"ORDER BY year, month DESC\")\n",
    "\n",
    "results = cur.fetchall()\n",
    "\n",
    "df = DataFrame(results, columns = ['flights','month','year'])\n",
    "#df.head()\n",
    "fig = px.bar(df,x=\"year\", y=\"flights\", color=\"month\", title=\"Flights per Year\")\n",
    "fig.show()"
   ]
  },
  {
   "cell_type": "code",
   "execution_count": null,
   "id": "fc9c0036-83b4-4e3e-8ab0-bd0e65cb3ee4",
   "metadata": {},
   "outputs": [],
   "source": [
    "# This code will display the number of flights in a given year at various airports\n",
    "# in the U.S. where the airports are displayed on a map\n",
    "#\n",
    "\n",
    "import mariadb\n",
    "import plotly.express as px\n",
    "from pandas import DataFrame\n",
    "from jproperties import Properties\n",
    "\n",
    "configs = Properties()\n",
    "\n",
    "with open('colStore.properties', 'rb') as read_prop:\n",
    "    configs.load(read_prop)\n",
    "\n",
    "host=configs.get(\"DB_HOST\").data\n",
    "port=configs.get(\"DB_PORT\").data\n",
    "user=configs.get(\"DB_USER\").data\n",
    "password=configs.get(\"DB_PASSWORD\").data\n",
    "database=configs.get(\"DB_DATABASE\").data\n",
    "#ssl=configs.get(\"DB_SSL\").data\n",
    "\n",
    "port=int(port)\n",
    "#ssl=int(ssl)\n",
    "\n",
    "config = {\n",
    "    'host' : host,\n",
    "    'port' : port,\n",
    "    'user' : user,\n",
    "    'password' : password,\n",
    "    'database' : database,\n",
    "    #'ssl' : ssl\n",
    "}\n",
    "\n",
    "conn = mariadb.connect(**config)\n",
    "\n",
    "cur = conn.cursor()\n",
    "\n",
    "cur.execute(\"SELECT COUNT(*) flights, a.airport airport, a.latitude latitude, a.longitude longitude \" \\\n",
    "            \"FROM airports a INNER JOIN flights f ON a.iata_code = f.dest \" \\\n",
    "            \"WHERE year  = 2020 \" \\\n",
    "            \"GROUP BY a.airport, a.latitude, a.longitude\")\n",
    "\n",
    "results = cur.fetchall()\n",
    "\n",
    "df = DataFrame(results, columns = ['flights', 'airport', 'latitude', 'longitude'])\n",
    "\n",
    "fig = px.scatter_mapbox(df, lat='latitude', lon='longitude', hover_name='airport',\n",
    "                        hover_data=[\"flights\"], color_continuous_scale=px.colors.cyclical.IceFire,\n",
    "                        color=\"flights\", size=\"flights\", zoom=3, height=300)\n",
    "fig.update_layout(mapbox_style=\"open-street-map\")\n",
    "fig.update_layout(margin={\"r\":0,\"t\":0,\"l\":0,\"b\":0})\n",
    "fig.show()"
   ]
  },
  {
   "cell_type": "code",
   "execution_count": null,
   "id": "e79e2ea4-9e81-4ab2-87eb-8a1ffe027ca2",
   "metadata": {},
   "outputs": [],
   "source": [
    "# If running this in a jupyter notebook after running jupyter lab\n",
    "# may need to run # jupyter labextension install jupyterlab-plotly\n",
    "# in virtual env before starting up jupyter lab\n",
    "#\n",
    "# This code will illustrate flights per month along a line, with each line representing a year\n",
    "\n",
    "import mariadb\n",
    "import plotly.express as px\n",
    "from pandas import DataFrame\n",
    "from jproperties import Properties\n",
    "\n",
    "configs = Properties()\n",
    "\n",
    "with open('colStore.properties', 'rb') as read_prop:\n",
    "    configs.load(read_prop)\n",
    "\n",
    "host=configs.get(\"DB_HOST\").data\n",
    "port=configs.get(\"DB_PORT\").data\n",
    "user=configs.get(\"DB_USER\").data\n",
    "password=configs.get(\"DB_PASSWORD\").data\n",
    "database=configs.get(\"DB_DATABASE\").data\n",
    "#ssl=configs.get(\"DB_SSL\").data\n",
    "\n",
    "port=int(port)\n",
    "#ssl=int(ssl)\n",
    "\n",
    "config = {\n",
    "    'host' : host,\n",
    "    'port' : port,\n",
    "    'user' : user,\n",
    "    'password' : password,\n",
    "    'database' : database,\n",
    "    #'ssl' : ssl\n",
    "}\n",
    "\n",
    "\n",
    "\n",
    "conn = mariadb.connect(**config)\n",
    "\n",
    "cur = conn.cursor()\n",
    "\n",
    "cur.execute(\"SELECT COUNT(*) flights, month, year \" \\\n",
    "            \"FROM flights \" \\\n",
    "            \"WHERE year >= 2015 and year < 2021 \" \\\n",
    "            \"GROUP BY year, month \" \\\n",
    "            \"ORDER BY year, month DESC\")\n",
    "\n",
    "results = cur.fetchall()\n",
    "\n",
    "df = DataFrame(results, columns = ['flights','month','year'])\n",
    "fig = px.line(df,x=\"month\", y=\"flights\", color=\"year\", title=\"Flights per Year\")\n",
    "fig.show()"
   ]
  },
  {
   "cell_type": "code",
   "execution_count": null,
   "id": "b4218a74-ce97-4025-97b3-13da8707f2a7",
   "metadata": {},
   "outputs": [],
   "source": []
  }
 ],
 "metadata": {
  "kernelspec": {
   "display_name": "Python 3.10.8 ('venv': venv)",
   "language": "python",
   "name": "python3"
  },
  "language_info": {
   "codemirror_mode": {
    "name": "ipython",
    "version": 3
   },
   "file_extension": ".py",
   "mimetype": "text/x-python",
   "name": "python",
   "nbconvert_exporter": "python",
   "pygments_lexer": "ipython3",
   "version": "3.10.8"
  },
  "vscode": {
   "interpreter": {
    "hash": "264de664a1f8562084ff4d7e8821c4808366e21668a4d16be031102487c62d4e"
   }
  }
 },
 "nbformat": 4,
 "nbformat_minor": 5
}
